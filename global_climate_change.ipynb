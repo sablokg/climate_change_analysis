{
 "cells": [
  {
   "cell_type": "code",
   "execution_count": null,
   "id": "657671de",
   "metadata": {},
   "outputs": [],
   "source": [
    "Global climate data 2022.\n",
    "\n",
    "Complete matplot guide: https://matplotlib.org/2.0.2/users/pyplot_tutorial.html"
   ]
  },
  {
   "cell_type": "markdown",
   "id": "aa1a75fc",
   "metadata": {},
   "source": [
    "Loading all necessary modules for plotting"
   ]
  },
  {
   "cell_type": "code",
   "execution_count": 536,
   "id": "0a893393",
   "metadata": {},
   "outputs": [],
   "source": [
    "import csv\n",
    "import pandas as pd\n",
    "import numpy as np\n",
    "import matplotlib.pyplot as plt\n",
    "import plotly as py\n",
    "%matplotlib inline"
   ]
  },
  {
   "cell_type": "code",
   "execution_count": 301,
   "id": "845b2753",
   "metadata": {},
   "outputs": [],
   "source": [
    "data=pd.read_csv('/Users/dr.gauravsablok/pandas_notebook/climate-change.csv')"
   ]
  },
  {
   "cell_type": "markdown",
   "id": "dc87d705",
   "metadata": {},
   "source": [
    "Accessing the infographics of the data as int64, float or string"
   ]
  },
  {
   "cell_type": "code",
   "execution_count": 302,
   "id": "d9f4764e",
   "metadata": {},
   "outputs": [
    {
     "name": "stdout",
     "output_type": "stream",
     "text": [
      "<class 'pandas.core.frame.DataFrame'>\n",
      "RangeIndex: 2779 entries, 0 to 2778\n",
      "Data columns (total 20 columns):\n",
      " #   Column                          Non-Null Count  Dtype  \n",
      "---  ------                          --------------  -----  \n",
      " 0   Entity                          2779 non-null   object \n",
      " 1   Year                            2779 non-null   int64  \n",
      " 2   CO2 concentrations              1875 non-null   float64\n",
      " 3   CH4 concentrations              91 non-null     float64\n",
      " 4   N2O concentrations              91 non-null     float64\n",
      " 5   February                        43 non-null     float64\n",
      " 6   September                       43 non-null     float64\n",
      " 7   Mass U.S. glaciers              239 non-null    float64\n",
      " 8   CSIRO                           56 non-null     float64\n",
      " 9   IAP                             66 non-null     float64\n",
      " 10  MRIJMA                          66 non-null     float64\n",
      " 11  NOAA                            66 non-null     float64\n",
      " 12  Snow cover                      49 non-null     float64\n",
      " 13  Sea surface temp                688 non-null    float64\n",
      " 14  Sea surface temp (lower-bound)  688 non-null    float64\n",
      " 15  Sea surface temp (upper-bound)  688 non-null    float64\n",
      " 16  IAP.1                           66 non-null     float64\n",
      " 17  NOAA.1                          62 non-null     float64\n",
      " 18  MRIJMA.1                        66 non-null     float64\n",
      " 19  Arctic sea ice                  43 non-null     float64\n",
      "dtypes: float64(18), int64(1), object(1)\n",
      "memory usage: 434.3+ KB\n"
     ]
    }
   ],
   "source": [
    "data.info()"
   ]
  },
  {
   "cell_type": "markdown",
   "id": "7bb01e61",
   "metadata": {},
   "source": [
    "A cusory look at the data from the top"
   ]
  },
  {
   "cell_type": "code",
   "execution_count": 303,
   "id": "bbdde9a0",
   "metadata": {},
   "outputs": [
    {
     "data": {
      "text/html": [
       "<div>\n",
       "<style scoped>\n",
       "    .dataframe tbody tr th:only-of-type {\n",
       "        vertical-align: middle;\n",
       "    }\n",
       "\n",
       "    .dataframe tbody tr th {\n",
       "        vertical-align: top;\n",
       "    }\n",
       "\n",
       "    .dataframe thead th {\n",
       "        text-align: right;\n",
       "    }\n",
       "</style>\n",
       "<table border=\"1\" class=\"dataframe\">\n",
       "  <thead>\n",
       "    <tr style=\"text-align: right;\">\n",
       "      <th></th>\n",
       "      <th>Entity</th>\n",
       "      <th>Year</th>\n",
       "      <th>CO2 concentrations</th>\n",
       "      <th>CH4 concentrations</th>\n",
       "      <th>N2O concentrations</th>\n",
       "      <th>February</th>\n",
       "      <th>September</th>\n",
       "      <th>Mass U.S. glaciers</th>\n",
       "      <th>CSIRO</th>\n",
       "      <th>IAP</th>\n",
       "      <th>MRIJMA</th>\n",
       "      <th>NOAA</th>\n",
       "      <th>Snow cover</th>\n",
       "      <th>Sea surface temp</th>\n",
       "      <th>Sea surface temp (lower-bound)</th>\n",
       "      <th>Sea surface temp (upper-bound)</th>\n",
       "      <th>IAP.1</th>\n",
       "      <th>NOAA.1</th>\n",
       "      <th>MRIJMA.1</th>\n",
       "      <th>Arctic sea ice</th>\n",
       "    </tr>\n",
       "  </thead>\n",
       "  <tbody>\n",
       "    <tr>\n",
       "      <th>0</th>\n",
       "      <td>Antarctica</td>\n",
       "      <td>1979</td>\n",
       "      <td>NaN</td>\n",
       "      <td>NaN</td>\n",
       "      <td>NaN</td>\n",
       "      <td>1.212361</td>\n",
       "      <td>7.027059</td>\n",
       "      <td>NaN</td>\n",
       "      <td>NaN</td>\n",
       "      <td>NaN</td>\n",
       "      <td>NaN</td>\n",
       "      <td>NaN</td>\n",
       "      <td>NaN</td>\n",
       "      <td>NaN</td>\n",
       "      <td>NaN</td>\n",
       "      <td>NaN</td>\n",
       "      <td>NaN</td>\n",
       "      <td>NaN</td>\n",
       "      <td>NaN</td>\n",
       "      <td>NaN</td>\n",
       "    </tr>\n",
       "    <tr>\n",
       "      <th>1</th>\n",
       "      <td>Antarctica</td>\n",
       "      <td>1980</td>\n",
       "      <td>NaN</td>\n",
       "      <td>NaN</td>\n",
       "      <td>NaN</td>\n",
       "      <td>1.088808</td>\n",
       "      <td>7.266443</td>\n",
       "      <td>NaN</td>\n",
       "      <td>NaN</td>\n",
       "      <td>NaN</td>\n",
       "      <td>NaN</td>\n",
       "      <td>NaN</td>\n",
       "      <td>NaN</td>\n",
       "      <td>NaN</td>\n",
       "      <td>NaN</td>\n",
       "      <td>NaN</td>\n",
       "      <td>NaN</td>\n",
       "      <td>NaN</td>\n",
       "      <td>NaN</td>\n",
       "      <td>NaN</td>\n",
       "    </tr>\n",
       "    <tr>\n",
       "      <th>2</th>\n",
       "      <td>Antarctica</td>\n",
       "      <td>1981</td>\n",
       "      <td>NaN</td>\n",
       "      <td>NaN</td>\n",
       "      <td>NaN</td>\n",
       "      <td>1.108113</td>\n",
       "      <td>7.181500</td>\n",
       "      <td>NaN</td>\n",
       "      <td>NaN</td>\n",
       "      <td>NaN</td>\n",
       "      <td>NaN</td>\n",
       "      <td>NaN</td>\n",
       "      <td>NaN</td>\n",
       "      <td>NaN</td>\n",
       "      <td>NaN</td>\n",
       "      <td>NaN</td>\n",
       "      <td>NaN</td>\n",
       "      <td>NaN</td>\n",
       "      <td>NaN</td>\n",
       "      <td>NaN</td>\n",
       "    </tr>\n",
       "    <tr>\n",
       "      <th>3</th>\n",
       "      <td>Antarctica</td>\n",
       "      <td>1982</td>\n",
       "      <td>NaN</td>\n",
       "      <td>NaN</td>\n",
       "      <td>NaN</td>\n",
       "      <td>1.208500</td>\n",
       "      <td>7.084975</td>\n",
       "      <td>NaN</td>\n",
       "      <td>NaN</td>\n",
       "      <td>NaN</td>\n",
       "      <td>NaN</td>\n",
       "      <td>NaN</td>\n",
       "      <td>NaN</td>\n",
       "      <td>NaN</td>\n",
       "      <td>NaN</td>\n",
       "      <td>NaN</td>\n",
       "      <td>NaN</td>\n",
       "      <td>NaN</td>\n",
       "      <td>NaN</td>\n",
       "      <td>NaN</td>\n",
       "    </tr>\n",
       "    <tr>\n",
       "      <th>4</th>\n",
       "      <td>Antarctica</td>\n",
       "      <td>1983</td>\n",
       "      <td>NaN</td>\n",
       "      <td>NaN</td>\n",
       "      <td>NaN</td>\n",
       "      <td>1.185334</td>\n",
       "      <td>7.177639</td>\n",
       "      <td>NaN</td>\n",
       "      <td>NaN</td>\n",
       "      <td>NaN</td>\n",
       "      <td>NaN</td>\n",
       "      <td>NaN</td>\n",
       "      <td>NaN</td>\n",
       "      <td>NaN</td>\n",
       "      <td>NaN</td>\n",
       "      <td>NaN</td>\n",
       "      <td>NaN</td>\n",
       "      <td>NaN</td>\n",
       "      <td>NaN</td>\n",
       "      <td>NaN</td>\n",
       "    </tr>\n",
       "  </tbody>\n",
       "</table>\n",
       "</div>"
      ],
      "text/plain": [
       "       Entity  Year  CO2 concentrations  CH4 concentrations  \\\n",
       "0  Antarctica  1979                 NaN                 NaN   \n",
       "1  Antarctica  1980                 NaN                 NaN   \n",
       "2  Antarctica  1981                 NaN                 NaN   \n",
       "3  Antarctica  1982                 NaN                 NaN   \n",
       "4  Antarctica  1983                 NaN                 NaN   \n",
       "\n",
       "   N2O concentrations  February  September  Mass U.S. glaciers  CSIRO  IAP  \\\n",
       "0                 NaN  1.212361   7.027059                 NaN    NaN  NaN   \n",
       "1                 NaN  1.088808   7.266443                 NaN    NaN  NaN   \n",
       "2                 NaN  1.108113   7.181500                 NaN    NaN  NaN   \n",
       "3                 NaN  1.208500   7.084975                 NaN    NaN  NaN   \n",
       "4                 NaN  1.185334   7.177639                 NaN    NaN  NaN   \n",
       "\n",
       "   MRIJMA  NOAA  Snow cover  Sea surface temp  Sea surface temp (lower-bound)  \\\n",
       "0     NaN   NaN         NaN               NaN                             NaN   \n",
       "1     NaN   NaN         NaN               NaN                             NaN   \n",
       "2     NaN   NaN         NaN               NaN                             NaN   \n",
       "3     NaN   NaN         NaN               NaN                             NaN   \n",
       "4     NaN   NaN         NaN               NaN                             NaN   \n",
       "\n",
       "   Sea surface temp (upper-bound)  IAP.1  NOAA.1  MRIJMA.1  Arctic sea ice  \n",
       "0                             NaN    NaN     NaN       NaN             NaN  \n",
       "1                             NaN    NaN     NaN       NaN             NaN  \n",
       "2                             NaN    NaN     NaN       NaN             NaN  \n",
       "3                             NaN    NaN     NaN       NaN             NaN  \n",
       "4                             NaN    NaN     NaN       NaN             NaN  "
      ]
     },
     "execution_count": 303,
     "metadata": {},
     "output_type": "execute_result"
    }
   ],
   "source": [
    "data.head()"
   ]
  },
  {
   "cell_type": "markdown",
   "id": "03f8a648",
   "metadata": {},
   "source": [
    "A cursory look at the data from the bottom"
   ]
  },
  {
   "cell_type": "code",
   "execution_count": 304,
   "id": "67a6f3c2",
   "metadata": {},
   "outputs": [
    {
     "data": {
      "text/html": [
       "<div>\n",
       "<style scoped>\n",
       "    .dataframe tbody tr th:only-of-type {\n",
       "        vertical-align: middle;\n",
       "    }\n",
       "\n",
       "    .dataframe tbody tr th {\n",
       "        vertical-align: top;\n",
       "    }\n",
       "\n",
       "    .dataframe thead th {\n",
       "        text-align: right;\n",
       "    }\n",
       "</style>\n",
       "<table border=\"1\" class=\"dataframe\">\n",
       "  <thead>\n",
       "    <tr style=\"text-align: right;\">\n",
       "      <th></th>\n",
       "      <th>Entity</th>\n",
       "      <th>Year</th>\n",
       "      <th>CO2 concentrations</th>\n",
       "      <th>CH4 concentrations</th>\n",
       "      <th>N2O concentrations</th>\n",
       "      <th>February</th>\n",
       "      <th>September</th>\n",
       "      <th>Mass U.S. glaciers</th>\n",
       "      <th>CSIRO</th>\n",
       "      <th>IAP</th>\n",
       "      <th>MRIJMA</th>\n",
       "      <th>NOAA</th>\n",
       "      <th>Snow cover</th>\n",
       "      <th>Sea surface temp</th>\n",
       "      <th>Sea surface temp (lower-bound)</th>\n",
       "      <th>Sea surface temp (upper-bound)</th>\n",
       "      <th>IAP.1</th>\n",
       "      <th>NOAA.1</th>\n",
       "      <th>MRIJMA.1</th>\n",
       "      <th>Arctic sea ice</th>\n",
       "    </tr>\n",
       "  </thead>\n",
       "  <tbody>\n",
       "    <tr>\n",
       "      <th>2774</th>\n",
       "      <td>World</td>\n",
       "      <td>2018</td>\n",
       "      <td>408.520833</td>\n",
       "      <td>1857.422500</td>\n",
       "      <td>330.914167</td>\n",
       "      <td>NaN</td>\n",
       "      <td>NaN</td>\n",
       "      <td>NaN</td>\n",
       "      <td>NaN</td>\n",
       "      <td>17.630567</td>\n",
       "      <td>16.642667</td>\n",
       "      <td>16.485767</td>\n",
       "      <td>NaN</td>\n",
       "      <td>0.61641</td>\n",
       "      <td>0.59350</td>\n",
       "      <td>0.63888</td>\n",
       "      <td>25.426967</td>\n",
       "      <td>22.427733</td>\n",
       "      <td>26.827333</td>\n",
       "      <td>4.79</td>\n",
       "    </tr>\n",
       "    <tr>\n",
       "      <th>2775</th>\n",
       "      <td>World</td>\n",
       "      <td>2019</td>\n",
       "      <td>411.419167</td>\n",
       "      <td>1866.669167</td>\n",
       "      <td>331.886667</td>\n",
       "      <td>NaN</td>\n",
       "      <td>NaN</td>\n",
       "      <td>NaN</td>\n",
       "      <td>NaN</td>\n",
       "      <td>18.933567</td>\n",
       "      <td>17.872667</td>\n",
       "      <td>17.489767</td>\n",
       "      <td>NaN</td>\n",
       "      <td>0.71702</td>\n",
       "      <td>0.69317</td>\n",
       "      <td>0.73946</td>\n",
       "      <td>27.445967</td>\n",
       "      <td>NaN</td>\n",
       "      <td>28.777333</td>\n",
       "      <td>4.36</td>\n",
       "    </tr>\n",
       "    <tr>\n",
       "      <th>2776</th>\n",
       "      <td>World</td>\n",
       "      <td>2020</td>\n",
       "      <td>413.943333</td>\n",
       "      <td>1879.103333</td>\n",
       "      <td>333.038333</td>\n",
       "      <td>NaN</td>\n",
       "      <td>NaN</td>\n",
       "      <td>NaN</td>\n",
       "      <td>NaN</td>\n",
       "      <td>20.007567</td>\n",
       "      <td>18.082667</td>\n",
       "      <td>17.287767</td>\n",
       "      <td>NaN</td>\n",
       "      <td>0.70991</td>\n",
       "      <td>0.68467</td>\n",
       "      <td>0.73446</td>\n",
       "      <td>29.420967</td>\n",
       "      <td>NaN</td>\n",
       "      <td>29.277333</td>\n",
       "      <td>4.00</td>\n",
       "    </tr>\n",
       "    <tr>\n",
       "      <th>2777</th>\n",
       "      <td>World</td>\n",
       "      <td>2021</td>\n",
       "      <td>416.106667</td>\n",
       "      <td>1895.455833</td>\n",
       "      <td>334.322500</td>\n",
       "      <td>NaN</td>\n",
       "      <td>NaN</td>\n",
       "      <td>NaN</td>\n",
       "      <td>NaN</td>\n",
       "      <td>NaN</td>\n",
       "      <td>NaN</td>\n",
       "      <td>NaN</td>\n",
       "      <td>NaN</td>\n",
       "      <td>0.63219</td>\n",
       "      <td>0.60608</td>\n",
       "      <td>0.65442</td>\n",
       "      <td>NaN</td>\n",
       "      <td>NaN</td>\n",
       "      <td>NaN</td>\n",
       "      <td>4.92</td>\n",
       "    </tr>\n",
       "    <tr>\n",
       "      <th>2778</th>\n",
       "      <td>World</td>\n",
       "      <td>2022</td>\n",
       "      <td>417.652857</td>\n",
       "      <td>1908.336667</td>\n",
       "      <td>335.406667</td>\n",
       "      <td>NaN</td>\n",
       "      <td>NaN</td>\n",
       "      <td>NaN</td>\n",
       "      <td>NaN</td>\n",
       "      <td>NaN</td>\n",
       "      <td>NaN</td>\n",
       "      <td>NaN</td>\n",
       "      <td>NaN</td>\n",
       "      <td>NaN</td>\n",
       "      <td>NaN</td>\n",
       "      <td>NaN</td>\n",
       "      <td>NaN</td>\n",
       "      <td>NaN</td>\n",
       "      <td>NaN</td>\n",
       "      <td>NaN</td>\n",
       "    </tr>\n",
       "  </tbody>\n",
       "</table>\n",
       "</div>"
      ],
      "text/plain": [
       "     Entity  Year  CO2 concentrations  CH4 concentrations  N2O concentrations  \\\n",
       "2774  World  2018          408.520833         1857.422500          330.914167   \n",
       "2775  World  2019          411.419167         1866.669167          331.886667   \n",
       "2776  World  2020          413.943333         1879.103333          333.038333   \n",
       "2777  World  2021          416.106667         1895.455833          334.322500   \n",
       "2778  World  2022          417.652857         1908.336667          335.406667   \n",
       "\n",
       "      February  September  Mass U.S. glaciers  CSIRO        IAP     MRIJMA  \\\n",
       "2774       NaN        NaN                 NaN    NaN  17.630567  16.642667   \n",
       "2775       NaN        NaN                 NaN    NaN  18.933567  17.872667   \n",
       "2776       NaN        NaN                 NaN    NaN  20.007567  18.082667   \n",
       "2777       NaN        NaN                 NaN    NaN        NaN        NaN   \n",
       "2778       NaN        NaN                 NaN    NaN        NaN        NaN   \n",
       "\n",
       "           NOAA  Snow cover  Sea surface temp  Sea surface temp (lower-bound)  \\\n",
       "2774  16.485767         NaN           0.61641                         0.59350   \n",
       "2775  17.489767         NaN           0.71702                         0.69317   \n",
       "2776  17.287767         NaN           0.70991                         0.68467   \n",
       "2777        NaN         NaN           0.63219                         0.60608   \n",
       "2778        NaN         NaN               NaN                             NaN   \n",
       "\n",
       "      Sea surface temp (upper-bound)      IAP.1     NOAA.1   MRIJMA.1  \\\n",
       "2774                         0.63888  25.426967  22.427733  26.827333   \n",
       "2775                         0.73946  27.445967        NaN  28.777333   \n",
       "2776                         0.73446  29.420967        NaN  29.277333   \n",
       "2777                         0.65442        NaN        NaN        NaN   \n",
       "2778                             NaN        NaN        NaN        NaN   \n",
       "\n",
       "      Arctic sea ice  \n",
       "2774            4.79  \n",
       "2775            4.36  \n",
       "2776            4.00  \n",
       "2777            4.92  \n",
       "2778             NaN  "
      ]
     },
     "execution_count": 304,
     "metadata": {},
     "output_type": "execute_result"
    }
   ],
   "source": [
    "data.tail()"
   ]
  },
  {
   "cell_type": "markdown",
   "id": "9fcd07c1",
   "metadata": {},
   "source": [
    "Checking how the data looks like"
   ]
  },
  {
   "cell_type": "code",
   "execution_count": 305,
   "id": "71a10cb6",
   "metadata": {},
   "outputs": [
    {
     "data": {
      "text/html": [
       "<div>\n",
       "<style scoped>\n",
       "    .dataframe tbody tr th:only-of-type {\n",
       "        vertical-align: middle;\n",
       "    }\n",
       "\n",
       "    .dataframe tbody tr th {\n",
       "        vertical-align: top;\n",
       "    }\n",
       "\n",
       "    .dataframe thead th {\n",
       "        text-align: right;\n",
       "    }\n",
       "</style>\n",
       "<table border=\"1\" class=\"dataframe\">\n",
       "  <thead>\n",
       "    <tr style=\"text-align: right;\">\n",
       "      <th></th>\n",
       "      <th>Year</th>\n",
       "      <th>CO2 concentrations</th>\n",
       "      <th>CH4 concentrations</th>\n",
       "      <th>N2O concentrations</th>\n",
       "      <th>February</th>\n",
       "      <th>September</th>\n",
       "      <th>Mass U.S. glaciers</th>\n",
       "      <th>CSIRO</th>\n",
       "      <th>IAP</th>\n",
       "      <th>MRIJMA</th>\n",
       "      <th>NOAA</th>\n",
       "      <th>Snow cover</th>\n",
       "      <th>Sea surface temp</th>\n",
       "      <th>Sea surface temp (lower-bound)</th>\n",
       "      <th>Sea surface temp (upper-bound)</th>\n",
       "      <th>IAP.1</th>\n",
       "      <th>NOAA.1</th>\n",
       "      <th>MRIJMA.1</th>\n",
       "      <th>Arctic sea ice</th>\n",
       "    </tr>\n",
       "  </thead>\n",
       "  <tbody>\n",
       "    <tr>\n",
       "      <th>count</th>\n",
       "      <td>2779.000000</td>\n",
       "      <td>1875.000000</td>\n",
       "      <td>91.000000</td>\n",
       "      <td>91.000000</td>\n",
       "      <td>43.000000</td>\n",
       "      <td>43.000000</td>\n",
       "      <td>239.000000</td>\n",
       "      <td>56.000000</td>\n",
       "      <td>66.000000</td>\n",
       "      <td>66.000000</td>\n",
       "      <td>66.000000</td>\n",
       "      <td>4.900000e+01</td>\n",
       "      <td>688.000000</td>\n",
       "      <td>688.000000</td>\n",
       "      <td>688.000000</td>\n",
       "      <td>66.000000</td>\n",
       "      <td>62.000000</td>\n",
       "      <td>66.000000</td>\n",
       "      <td>43.000000</td>\n",
       "    </tr>\n",
       "    <tr>\n",
       "      <th>mean</th>\n",
       "      <td>-164145.617488</td>\n",
       "      <td>235.721968</td>\n",
       "      <td>1319.182747</td>\n",
       "      <td>297.201813</td>\n",
       "      <td>1.179228</td>\n",
       "      <td>7.154563</td>\n",
       "      <td>-10.378452</td>\n",
       "      <td>1.958702</td>\n",
       "      <td>2.861839</td>\n",
       "      <td>2.107364</td>\n",
       "      <td>2.652024</td>\n",
       "      <td>3.249724e+06</td>\n",
       "      <td>-0.079194</td>\n",
       "      <td>-0.143538</td>\n",
       "      <td>-0.015215</td>\n",
       "      <td>4.320118</td>\n",
       "      <td>2.470395</td>\n",
       "      <td>3.577939</td>\n",
       "      <td>5.993488</td>\n",
       "    </tr>\n",
       "    <tr>\n",
       "      <th>std</th>\n",
       "      <td>253363.256331</td>\n",
       "      <td>38.650310</td>\n",
       "      <td>454.616751</td>\n",
       "      <td>20.777031</td>\n",
       "      <td>0.159986</td>\n",
       "      <td>0.162784</td>\n",
       "      <td>10.296326</td>\n",
       "      <td>6.211701</td>\n",
       "      <td>7.708317</td>\n",
       "      <td>7.322055</td>\n",
       "      <td>6.635209</td>\n",
       "      <td>1.307858e+05</td>\n",
       "      <td>0.319172</td>\n",
       "      <td>0.334929</td>\n",
       "      <td>0.305992</td>\n",
       "      <td>11.233907</td>\n",
       "      <td>9.269057</td>\n",
       "      <td>11.710668</td>\n",
       "      <td>1.144945</td>\n",
       "    </tr>\n",
       "    <tr>\n",
       "      <th>min</th>\n",
       "      <td>-803720.000000</td>\n",
       "      <td>173.713620</td>\n",
       "      <td>719.010000</td>\n",
       "      <td>270.000000</td>\n",
       "      <td>0.884174</td>\n",
       "      <td>6.826286</td>\n",
       "      <td>-41.720000</td>\n",
       "      <td>-7.519333</td>\n",
       "      <td>-7.567433</td>\n",
       "      <td>-9.497333</td>\n",
       "      <td>-5.964233</td>\n",
       "      <td>3.017916e+06</td>\n",
       "      <td>-0.704710</td>\n",
       "      <td>-0.772210</td>\n",
       "      <td>-0.657330</td>\n",
       "      <td>-10.506033</td>\n",
       "      <td>-10.169267</td>\n",
       "      <td>-14.032667</td>\n",
       "      <td>3.570000</td>\n",
       "    </tr>\n",
       "    <tr>\n",
       "      <th>25%</th>\n",
       "      <td>-280048.000000</td>\n",
       "      <td>204.608753</td>\n",
       "      <td>819.485000</td>\n",
       "      <td>276.650000</td>\n",
       "      <td>1.094600</td>\n",
       "      <td>7.025129</td>\n",
       "      <td>-18.405000</td>\n",
       "      <td>-2.779333</td>\n",
       "      <td>-2.915933</td>\n",
       "      <td>-3.607333</td>\n",
       "      <td>-2.533733</td>\n",
       "      <td>3.173890e+06</td>\n",
       "      <td>-0.308428</td>\n",
       "      <td>-0.390655</td>\n",
       "      <td>-0.232335</td>\n",
       "      <td>-4.388283</td>\n",
       "      <td>-4.978767</td>\n",
       "      <td>-5.625167</td>\n",
       "      <td>4.895000</td>\n",
       "    </tr>\n",
       "    <tr>\n",
       "      <th>50%</th>\n",
       "      <td>-13185.000000</td>\n",
       "      <td>232.115455</td>\n",
       "      <td>1483.570000</td>\n",
       "      <td>297.400000</td>\n",
       "      <td>1.150584</td>\n",
       "      <td>7.158334</td>\n",
       "      <td>-6.760000</td>\n",
       "      <td>1.420667</td>\n",
       "      <td>-0.275933</td>\n",
       "      <td>0.627667</td>\n",
       "      <td>0.138267</td>\n",
       "      <td>3.253968e+06</td>\n",
       "      <td>-0.151575</td>\n",
       "      <td>-0.233665</td>\n",
       "      <td>-0.076855</td>\n",
       "      <td>-0.808533</td>\n",
       "      <td>-0.248767</td>\n",
       "      <td>0.457333</td>\n",
       "      <td>6.120000</td>\n",
       "    </tr>\n",
       "    <tr>\n",
       "      <th>75%</th>\n",
       "      <td>1931.000000</td>\n",
       "      <td>255.868205</td>\n",
       "      <td>1771.831250</td>\n",
       "      <td>315.645000</td>\n",
       "      <td>1.233596</td>\n",
       "      <td>7.262582</td>\n",
       "      <td>-1.545000</td>\n",
       "      <td>6.240667</td>\n",
       "      <td>9.670067</td>\n",
       "      <td>8.690167</td>\n",
       "      <td>8.975267</td>\n",
       "      <td>3.317340e+06</td>\n",
       "      <td>0.119395</td>\n",
       "      <td>0.057217</td>\n",
       "      <td>0.183530</td>\n",
       "      <td>13.658467</td>\n",
       "      <td>9.133733</td>\n",
       "      <td>13.699833</td>\n",
       "      <td>7.030000</td>\n",
       "    </tr>\n",
       "    <tr>\n",
       "      <th>max</th>\n",
       "      <td>2022.000000</td>\n",
       "      <td>417.652857</td>\n",
       "      <td>1908.336667</td>\n",
       "      <td>335.406667</td>\n",
       "      <td>1.501937</td>\n",
       "      <td>7.629379</td>\n",
       "      <td>4.540000</td>\n",
       "      <td>15.880667</td>\n",
       "      <td>20.007567</td>\n",
       "      <td>18.082667</td>\n",
       "      <td>17.489767</td>\n",
       "      <td>3.637832e+06</td>\n",
       "      <td>0.930040</td>\n",
       "      <td>0.903670</td>\n",
       "      <td>0.954880</td>\n",
       "      <td>29.420967</td>\n",
       "      <td>22.427733</td>\n",
       "      <td>29.277333</td>\n",
       "      <td>7.670000</td>\n",
       "    </tr>\n",
       "  </tbody>\n",
       "</table>\n",
       "</div>"
      ],
      "text/plain": [
       "                Year  CO2 concentrations  CH4 concentrations  \\\n",
       "count    2779.000000         1875.000000           91.000000   \n",
       "mean  -164145.617488          235.721968         1319.182747   \n",
       "std    253363.256331           38.650310          454.616751   \n",
       "min   -803720.000000          173.713620          719.010000   \n",
       "25%   -280048.000000          204.608753          819.485000   \n",
       "50%    -13185.000000          232.115455         1483.570000   \n",
       "75%      1931.000000          255.868205         1771.831250   \n",
       "max      2022.000000          417.652857         1908.336667   \n",
       "\n",
       "       N2O concentrations   February  September  Mass U.S. glaciers  \\\n",
       "count           91.000000  43.000000  43.000000          239.000000   \n",
       "mean           297.201813   1.179228   7.154563          -10.378452   \n",
       "std             20.777031   0.159986   0.162784           10.296326   \n",
       "min            270.000000   0.884174   6.826286          -41.720000   \n",
       "25%            276.650000   1.094600   7.025129          -18.405000   \n",
       "50%            297.400000   1.150584   7.158334           -6.760000   \n",
       "75%            315.645000   1.233596   7.262582           -1.545000   \n",
       "max            335.406667   1.501937   7.629379            4.540000   \n",
       "\n",
       "           CSIRO        IAP     MRIJMA       NOAA    Snow cover  \\\n",
       "count  56.000000  66.000000  66.000000  66.000000  4.900000e+01   \n",
       "mean    1.958702   2.861839   2.107364   2.652024  3.249724e+06   \n",
       "std     6.211701   7.708317   7.322055   6.635209  1.307858e+05   \n",
       "min    -7.519333  -7.567433  -9.497333  -5.964233  3.017916e+06   \n",
       "25%    -2.779333  -2.915933  -3.607333  -2.533733  3.173890e+06   \n",
       "50%     1.420667  -0.275933   0.627667   0.138267  3.253968e+06   \n",
       "75%     6.240667   9.670067   8.690167   8.975267  3.317340e+06   \n",
       "max    15.880667  20.007567  18.082667  17.489767  3.637832e+06   \n",
       "\n",
       "       Sea surface temp  Sea surface temp (lower-bound)  \\\n",
       "count        688.000000                      688.000000   \n",
       "mean          -0.079194                       -0.143538   \n",
       "std            0.319172                        0.334929   \n",
       "min           -0.704710                       -0.772210   \n",
       "25%           -0.308428                       -0.390655   \n",
       "50%           -0.151575                       -0.233665   \n",
       "75%            0.119395                        0.057217   \n",
       "max            0.930040                        0.903670   \n",
       "\n",
       "       Sea surface temp (upper-bound)      IAP.1     NOAA.1   MRIJMA.1  \\\n",
       "count                      688.000000  66.000000  62.000000  66.000000   \n",
       "mean                        -0.015215   4.320118   2.470395   3.577939   \n",
       "std                          0.305992  11.233907   9.269057  11.710668   \n",
       "min                         -0.657330 -10.506033 -10.169267 -14.032667   \n",
       "25%                         -0.232335  -4.388283  -4.978767  -5.625167   \n",
       "50%                         -0.076855  -0.808533  -0.248767   0.457333   \n",
       "75%                          0.183530  13.658467   9.133733  13.699833   \n",
       "max                          0.954880  29.420967  22.427733  29.277333   \n",
       "\n",
       "       Arctic sea ice  \n",
       "count       43.000000  \n",
       "mean         5.993488  \n",
       "std          1.144945  \n",
       "min          3.570000  \n",
       "25%          4.895000  \n",
       "50%          6.120000  \n",
       "75%          7.030000  \n",
       "max          7.670000  "
      ]
     },
     "execution_count": 305,
     "metadata": {},
     "output_type": "execute_result"
    }
   ],
   "source": [
    "data.describe()"
   ]
  },
  {
   "cell_type": "markdown",
   "id": "402baaf5",
   "metadata": {},
   "source": [
    "Indexing the data"
   ]
  },
  {
   "cell_type": "code",
   "execution_count": 306,
   "id": "de5d7eae",
   "metadata": {},
   "outputs": [
    {
     "data": {
      "text/plain": [
       "RangeIndex(start=0, stop=2779, step=1)"
      ]
     },
     "execution_count": 306,
     "metadata": {},
     "output_type": "execute_result"
    }
   ],
   "source": [
    "data.index"
   ]
  },
  {
   "cell_type": "markdown",
   "id": "2562dced",
   "metadata": {},
   "source": [
    "Indexing the columns"
   ]
  },
  {
   "cell_type": "code",
   "execution_count": 307,
   "id": "dc9eccd7",
   "metadata": {},
   "outputs": [
    {
     "data": {
      "text/plain": [
       "Index(['Entity', 'Year', 'CO2 concentrations', 'CH4 concentrations',\n",
       "       'N2O concentrations', 'February', 'September', 'Mass U.S. glaciers',\n",
       "       'CSIRO', 'IAP', 'MRIJMA', 'NOAA', 'Snow cover', 'Sea surface temp',\n",
       "       'Sea surface temp (lower-bound)', 'Sea surface temp (upper-bound)',\n",
       "       'IAP.1', 'NOAA.1', 'MRIJMA.1', 'Arctic sea ice'],\n",
       "      dtype='object')"
      ]
     },
     "execution_count": 307,
     "metadata": {},
     "output_type": "execute_result"
    }
   ],
   "source": [
    "data.columns"
   ]
  },
  {
   "cell_type": "markdown",
   "id": "166b1000",
   "metadata": {},
   "source": [
    "Checking the shape of the data"
   ]
  },
  {
   "cell_type": "code",
   "execution_count": 308,
   "id": "24ce6c70",
   "metadata": {},
   "outputs": [
    {
     "data": {
      "text/plain": [
       "(2779, 20)"
      ]
     },
     "execution_count": 308,
     "metadata": {},
     "output_type": "execute_result"
    }
   ],
   "source": [
    "data.shape"
   ]
  },
  {
   "cell_type": "markdown",
   "id": "cc23eb7a",
   "metadata": {},
   "source": [
    "Checking the size of the data"
   ]
  },
  {
   "cell_type": "code",
   "execution_count": 309,
   "id": "04b46e69",
   "metadata": {},
   "outputs": [
    {
     "data": {
      "text/plain": [
       "55580"
      ]
     },
     "execution_count": 309,
     "metadata": {},
     "output_type": "execute_result"
    }
   ],
   "source": [
    "data.size"
   ]
  },
  {
   "cell_type": "markdown",
   "id": "9620e554",
   "metadata": {},
   "source": [
    "Counting the number of the data in the columns"
   ]
  },
  {
   "cell_type": "code",
   "execution_count": 310,
   "id": "e7c520ca",
   "metadata": {},
   "outputs": [
    {
     "data": {
      "text/plain": [
       "Entity                            2779\n",
       "Year                              2779\n",
       "CO2 concentrations                1875\n",
       "CH4 concentrations                  91\n",
       "N2O concentrations                  91\n",
       "February                            43\n",
       "September                           43\n",
       "Mass U.S. glaciers                 239\n",
       "CSIRO                               56\n",
       "IAP                                 66\n",
       "MRIJMA                              66\n",
       "NOAA                                66\n",
       "Snow cover                          49\n",
       "Sea surface temp                   688\n",
       "Sea surface temp (lower-bound)     688\n",
       "Sea surface temp (upper-bound)     688\n",
       "IAP.1                               66\n",
       "NOAA.1                              62\n",
       "MRIJMA.1                            66\n",
       "Arctic sea ice                      43\n",
       "dtype: int64"
      ]
     },
     "execution_count": 310,
     "metadata": {},
     "output_type": "execute_result"
    }
   ],
   "source": [
    "data.count()"
   ]
  },
  {
   "cell_type": "markdown",
   "id": "94af7b17",
   "metadata": {},
   "source": [
    "Copying the data and making a working copy dataset"
   ]
  },
  {
   "cell_type": "code",
   "execution_count": 340,
   "id": "b2842ed7",
   "metadata": {},
   "outputs": [],
   "source": [
    "working_data = data.copy()"
   ]
  },
  {
   "cell_type": "code",
   "execution_count": 337,
   "id": "cdb247d3",
   "metadata": {},
   "outputs": [],
   "source": [
    "Before proceeding with the datasets, lets understand the dataset"
   ]
  },
  {
   "cell_type": "code",
   "execution_count": 376,
   "id": "1981d307",
   "metadata": {},
   "outputs": [
    {
     "data": {
      "text/plain": [
       "0       Antarctica\n",
       "1       Antarctica\n",
       "2       Antarctica\n",
       "3       Antarctica\n",
       "4       Antarctica\n",
       "           ...    \n",
       "2774         World\n",
       "2775         World\n",
       "2776         World\n",
       "2777         World\n",
       "2778         World\n",
       "Name: Entity, Length: 2779, dtype: object"
      ]
     },
     "execution_count": 376,
     "metadata": {},
     "output_type": "execute_result"
    }
   ],
   "source": [
    "working_data['Entity'] #  selecting one specific column"
   ]
  },
  {
   "cell_type": "code",
   "execution_count": 377,
   "id": "1858181d",
   "metadata": {},
   "outputs": [
    {
     "data": {
      "text/html": [
       "<div>\n",
       "<style scoped>\n",
       "    .dataframe tbody tr th:only-of-type {\n",
       "        vertical-align: middle;\n",
       "    }\n",
       "\n",
       "    .dataframe tbody tr th {\n",
       "        vertical-align: top;\n",
       "    }\n",
       "\n",
       "    .dataframe thead th {\n",
       "        text-align: right;\n",
       "    }\n",
       "</style>\n",
       "<table border=\"1\" class=\"dataframe\">\n",
       "  <thead>\n",
       "    <tr style=\"text-align: right;\">\n",
       "      <th></th>\n",
       "      <th>Entity</th>\n",
       "      <th>Year</th>\n",
       "    </tr>\n",
       "  </thead>\n",
       "  <tbody>\n",
       "    <tr>\n",
       "      <th>0</th>\n",
       "      <td>Antarctica</td>\n",
       "      <td>1979</td>\n",
       "    </tr>\n",
       "    <tr>\n",
       "      <th>1</th>\n",
       "      <td>Antarctica</td>\n",
       "      <td>1980</td>\n",
       "    </tr>\n",
       "    <tr>\n",
       "      <th>2</th>\n",
       "      <td>Antarctica</td>\n",
       "      <td>1981</td>\n",
       "    </tr>\n",
       "    <tr>\n",
       "      <th>3</th>\n",
       "      <td>Antarctica</td>\n",
       "      <td>1982</td>\n",
       "    </tr>\n",
       "    <tr>\n",
       "      <th>4</th>\n",
       "      <td>Antarctica</td>\n",
       "      <td>1983</td>\n",
       "    </tr>\n",
       "    <tr>\n",
       "      <th>...</th>\n",
       "      <td>...</td>\n",
       "      <td>...</td>\n",
       "    </tr>\n",
       "    <tr>\n",
       "      <th>2774</th>\n",
       "      <td>World</td>\n",
       "      <td>2018</td>\n",
       "    </tr>\n",
       "    <tr>\n",
       "      <th>2775</th>\n",
       "      <td>World</td>\n",
       "      <td>2019</td>\n",
       "    </tr>\n",
       "    <tr>\n",
       "      <th>2776</th>\n",
       "      <td>World</td>\n",
       "      <td>2020</td>\n",
       "    </tr>\n",
       "    <tr>\n",
       "      <th>2777</th>\n",
       "      <td>World</td>\n",
       "      <td>2021</td>\n",
       "    </tr>\n",
       "    <tr>\n",
       "      <th>2778</th>\n",
       "      <td>World</td>\n",
       "      <td>2022</td>\n",
       "    </tr>\n",
       "  </tbody>\n",
       "</table>\n",
       "<p>2779 rows × 2 columns</p>\n",
       "</div>"
      ],
      "text/plain": [
       "          Entity  Year\n",
       "0     Antarctica  1979\n",
       "1     Antarctica  1980\n",
       "2     Antarctica  1981\n",
       "3     Antarctica  1982\n",
       "4     Antarctica  1983\n",
       "...          ...   ...\n",
       "2774       World  2018\n",
       "2775       World  2019\n",
       "2776       World  2020\n",
       "2777       World  2021\n",
       "2778       World  2022\n",
       "\n",
       "[2779 rows x 2 columns]"
      ]
     },
     "execution_count": 377,
     "metadata": {},
     "output_type": "execute_result"
    }
   ],
   "source": [
    "working_data[['Entity','Year']] # selecting for 2 columns "
   ]
  },
  {
   "cell_type": "code",
   "execution_count": 378,
   "id": "88b41121",
   "metadata": {},
   "outputs": [
    {
     "data": {
      "text/html": [
       "<div>\n",
       "<style scoped>\n",
       "    .dataframe tbody tr th:only-of-type {\n",
       "        vertical-align: middle;\n",
       "    }\n",
       "\n",
       "    .dataframe tbody tr th {\n",
       "        vertical-align: top;\n",
       "    }\n",
       "\n",
       "    .dataframe thead th {\n",
       "        text-align: right;\n",
       "    }\n",
       "</style>\n",
       "<table border=\"1\" class=\"dataframe\">\n",
       "  <thead>\n",
       "    <tr style=\"text-align: right;\">\n",
       "      <th></th>\n",
       "      <th>Entity</th>\n",
       "      <th>Year</th>\n",
       "    </tr>\n",
       "  </thead>\n",
       "  <tbody>\n",
       "    <tr>\n",
       "      <th>0</th>\n",
       "      <td>Antarctica</td>\n",
       "      <td>1979</td>\n",
       "    </tr>\n",
       "    <tr>\n",
       "      <th>1</th>\n",
       "      <td>Antarctica</td>\n",
       "      <td>1980</td>\n",
       "    </tr>\n",
       "    <tr>\n",
       "      <th>2</th>\n",
       "      <td>Antarctica</td>\n",
       "      <td>1981</td>\n",
       "    </tr>\n",
       "    <tr>\n",
       "      <th>3</th>\n",
       "      <td>Antarctica</td>\n",
       "      <td>1982</td>\n",
       "    </tr>\n",
       "    <tr>\n",
       "      <th>4</th>\n",
       "      <td>Antarctica</td>\n",
       "      <td>1983</td>\n",
       "    </tr>\n",
       "  </tbody>\n",
       "</table>\n",
       "</div>"
      ],
      "text/plain": [
       "       Entity  Year\n",
       "0  Antarctica  1979\n",
       "1  Antarctica  1980\n",
       "2  Antarctica  1981\n",
       "3  Antarctica  1982\n",
       "4  Antarctica  1983"
      ]
     },
     "execution_count": 378,
     "metadata": {},
     "output_type": "execute_result"
    }
   ],
   "source": [
    "working_data[['Entity', 'Year']].head() #  checking for the head info"
   ]
  },
  {
   "cell_type": "code",
   "execution_count": 379,
   "id": "8f085043",
   "metadata": {},
   "outputs": [
    {
     "data": {
      "text/plain": [
       "0       Antarctica\n",
       "1       Antarctica\n",
       "2       Antarctica\n",
       "3       Antarctica\n",
       "4       Antarctica\n",
       "           ...    \n",
       "2774         World\n",
       "2775         World\n",
       "2776         World\n",
       "2777         World\n",
       "2778         World\n",
       "Name: Entity, Length: 2779, dtype: object"
      ]
     },
     "execution_count": 379,
     "metadata": {},
     "output_type": "execute_result"
    }
   ],
   "source": [
    "working_data.loc[:,'Entity'] # subselecting information from a dataframe by referring to an index label. Slice the first column from the dataframe"
   ]
  },
  {
   "cell_type": "code",
   "execution_count": 451,
   "id": "26368324",
   "metadata": {},
   "outputs": [
    {
     "name": "stdout",
     "output_type": "stream",
     "text": [
      "<class 'pandas.core.frame.DataFrame'>\n",
      "RangeIndex: 2779 entries, 0 to 2778\n",
      "Data columns (total 2 columns):\n",
      " #   Column  Non-Null Count  Dtype \n",
      "---  ------  --------------  ----- \n",
      " 0   Entity  2779 non-null   object\n",
      " 1   Year    2779 non-null   int64 \n",
      "dtypes: int64(1), object(1)\n",
      "memory usage: 43.5+ KB\n"
     ]
    }
   ],
   "source": [
    "working_data[['Entity', 'Year']].info() # getting information about the dataframe"
   ]
  },
  {
   "cell_type": "code",
   "execution_count": 452,
   "id": "9176942e",
   "metadata": {},
   "outputs": [
    {
     "data": {
      "text/plain": [
       "55580"
      ]
     },
     "execution_count": 452,
     "metadata": {},
     "output_type": "execute_result"
    }
   ],
   "source": [
    "working_data.size #checking the data size"
   ]
  },
  {
   "cell_type": "code",
   "execution_count": 453,
   "id": "2c6b392a",
   "metadata": {},
   "outputs": [
    {
     "data": {
      "text/plain": [
       "Entity                             object\n",
       "Year                                int64\n",
       "CO2 concentrations                float64\n",
       "CH4 concentrations                float64\n",
       "N2O concentrations                float64\n",
       "February                          float64\n",
       "September                         float64\n",
       "Mass U.S. glaciers                float64\n",
       "CSIRO                             float64\n",
       "IAP                               float64\n",
       "MRIJMA                            float64\n",
       "NOAA                              float64\n",
       "Snow cover                        float64\n",
       "Sea surface temp                  float64\n",
       "Sea surface temp (lower-bound)    float64\n",
       "Sea surface temp (upper-bound)    float64\n",
       "IAP.1                             float64\n",
       "NOAA.1                            float64\n",
       "MRIJMA.1                          float64\n",
       "Arctic sea ice                    float64\n",
       "dtype: object"
      ]
     },
     "execution_count": 453,
     "metadata": {},
     "output_type": "execute_result"
    }
   ],
   "source": [
    "working_data.dtypes # checking the data types"
   ]
  },
  {
   "cell_type": "code",
   "execution_count": 454,
   "id": "39414e41",
   "metadata": {},
   "outputs": [],
   "source": [
    "plotting_data=working_data[['Entity', 'CO2 concentrations', 'Year']] # selecting the columns for plotting"
   ]
  },
  {
   "cell_type": "code",
   "execution_count": 455,
   "id": "1211c0e8",
   "metadata": {},
   "outputs": [
    {
     "name": "stdout",
     "output_type": "stream",
     "text": [
      "<class 'pandas.core.frame.DataFrame'>\n",
      "RangeIndex: 2779 entries, 0 to 2778\n",
      "Data columns (total 3 columns):\n",
      " #   Column              Non-Null Count  Dtype  \n",
      "---  ------              --------------  -----  \n",
      " 0   Entity              2779 non-null   object \n",
      " 1   CO2 concentrations  1875 non-null   float64\n",
      " 2   Year                2779 non-null   int64  \n",
      "dtypes: float64(1), int64(1), object(1)\n",
      "memory usage: 65.3+ KB\n"
     ]
    }
   ],
   "source": [
    "plotting_data.info()"
   ]
  },
  {
   "cell_type": "code",
   "execution_count": 456,
   "id": "9be1e5c8",
   "metadata": {},
   "outputs": [
    {
     "data": {
      "text/plain": [
       "(2779, 3)"
      ]
     },
     "execution_count": 456,
     "metadata": {},
     "output_type": "execute_result"
    }
   ],
   "source": [
    "plotting_data.shape"
   ]
  },
  {
   "cell_type": "code",
   "execution_count": null,
   "id": "452a1042",
   "metadata": {},
   "outputs": [],
   "source": [
    "Counting specific columns counts"
   ]
  },
  {
   "cell_type": "code",
   "execution_count": 457,
   "id": "b4952ef3",
   "metadata": {},
   "outputs": [
    {
     "data": {
      "text/plain": [
       "0       False\n",
       "1       False\n",
       "2       False\n",
       "3       False\n",
       "4       False\n",
       "        ...  \n",
       "2774     True\n",
       "2775     True\n",
       "2776     True\n",
       "2777     True\n",
       "2778     True\n",
       "Name: Entity, Length: 2779, dtype: bool"
      ]
     },
     "execution_count": 457,
     "metadata": {},
     "output_type": "execute_result"
    }
   ],
   "source": [
    "plotting_data['Entity']=='World' # checking the boolean true false where the word world is there"
   ]
  },
  {
   "cell_type": "code",
   "execution_count": 458,
   "id": "3927b348",
   "metadata": {},
   "outputs": [
    {
     "data": {
      "text/plain": [
       "Entity                2779\n",
       "CO2 concentrations    1875\n",
       "Year                  2779\n",
       "dtype: int64"
      ]
     },
     "execution_count": 458,
     "metadata": {},
     "output_type": "execute_result"
    }
   ],
   "source": [
    "plotting_data.count() # counting the number of indices"
   ]
  },
  {
   "cell_type": "code",
   "execution_count": 459,
   "id": "d14cb695",
   "metadata": {},
   "outputs": [
    {
     "data": {
      "text/plain": [
       "array(['Antarctica', 'Gulkana Glacier', 'Lemon Creek Glacier',\n",
       "       'North America', 'Northern Hemisphere', 'South Cascade Glacier',\n",
       "       'Southern Hemisphere', 'Tropics', 'Wolverine Glacier', 'World'],\n",
       "      dtype=object)"
      ]
     },
     "execution_count": 459,
     "metadata": {},
     "output_type": "execute_result"
    }
   ],
   "source": [
    "plotting_data['Entity'].unique() # checking the unique names in the entity"
   ]
  },
  {
   "cell_type": "markdown",
   "id": "87e5fcf7",
   "metadata": {},
   "source": [
    "Checking the frame of the groupby data"
   ]
  },
  {
   "cell_type": "code",
   "execution_count": 462,
   "id": "ec9af01d",
   "metadata": {},
   "outputs": [
    {
     "data": {
      "text/plain": [
       "<pandas.core.groupby.generic.DataFrameGroupBy object at 0x11efc7050>"
      ]
     },
     "execution_count": 462,
     "metadata": {},
     "output_type": "execute_result"
    }
   ],
   "source": [
    "plotting_data.groupby(['CO2 concentrations'])\n",
    "plotting_data.groupby(['Year'])\n",
    "plotting_data.groupby(['Entity'])"
   ]
  },
  {
   "cell_type": "code",
   "execution_count": 434,
   "id": "fa6c2eb3",
   "metadata": {},
   "outputs": [
    {
     "data": {
      "text/plain": [
       "<pandas.core.groupby.generic.DataFrameGroupBy object at 0x11f12fe90>"
      ]
     },
     "execution_count": 434,
     "metadata": {},
     "output_type": "execute_result"
    }
   ],
   "source": [
    "Max of the groupby"
   ]
  },
  {
   "cell_type": "code",
   "execution_count": null,
   "id": "d0a5bb95",
   "metadata": {},
   "outputs": [],
   "source": [
    "Why the world data was selected"
   ]
  },
  {
   "cell_type": "code",
   "execution_count": 463,
   "id": "b1d0c74c",
   "metadata": {},
   "outputs": [
    {
     "data": {
      "text/html": [
       "<div>\n",
       "<style scoped>\n",
       "    .dataframe tbody tr th:only-of-type {\n",
       "        vertical-align: middle;\n",
       "    }\n",
       "\n",
       "    .dataframe tbody tr th {\n",
       "        vertical-align: top;\n",
       "    }\n",
       "\n",
       "    .dataframe thead th {\n",
       "        text-align: right;\n",
       "    }\n",
       "</style>\n",
       "<table border=\"1\" class=\"dataframe\">\n",
       "  <thead>\n",
       "    <tr style=\"text-align: right;\">\n",
       "      <th></th>\n",
       "      <th>CO2 concentrations</th>\n",
       "      <th>Year</th>\n",
       "    </tr>\n",
       "    <tr>\n",
       "      <th>Entity</th>\n",
       "      <th></th>\n",
       "      <th></th>\n",
       "    </tr>\n",
       "  </thead>\n",
       "  <tbody>\n",
       "    <tr>\n",
       "      <th>Antarctica</th>\n",
       "      <td>NaN</td>\n",
       "      <td>2021</td>\n",
       "    </tr>\n",
       "    <tr>\n",
       "      <th>Gulkana Glacier</th>\n",
       "      <td>NaN</td>\n",
       "      <td>2019</td>\n",
       "    </tr>\n",
       "    <tr>\n",
       "      <th>Lemon Creek Glacier</th>\n",
       "      <td>NaN</td>\n",
       "      <td>2019</td>\n",
       "    </tr>\n",
       "    <tr>\n",
       "      <th>North America</th>\n",
       "      <td>NaN</td>\n",
       "      <td>2020</td>\n",
       "    </tr>\n",
       "    <tr>\n",
       "      <th>Northern Hemisphere</th>\n",
       "      <td>NaN</td>\n",
       "      <td>2021</td>\n",
       "    </tr>\n",
       "    <tr>\n",
       "      <th>South Cascade Glacier</th>\n",
       "      <td>NaN</td>\n",
       "      <td>2018</td>\n",
       "    </tr>\n",
       "    <tr>\n",
       "      <th>Southern Hemisphere</th>\n",
       "      <td>NaN</td>\n",
       "      <td>2021</td>\n",
       "    </tr>\n",
       "    <tr>\n",
       "      <th>Tropics</th>\n",
       "      <td>NaN</td>\n",
       "      <td>2021</td>\n",
       "    </tr>\n",
       "    <tr>\n",
       "      <th>Wolverine Glacier</th>\n",
       "      <td>NaN</td>\n",
       "      <td>2019</td>\n",
       "    </tr>\n",
       "    <tr>\n",
       "      <th>World</th>\n",
       "      <td>417.652857</td>\n",
       "      <td>2022</td>\n",
       "    </tr>\n",
       "  </tbody>\n",
       "</table>\n",
       "</div>"
      ],
      "text/plain": [
       "                       CO2 concentrations  Year\n",
       "Entity                                         \n",
       "Antarctica                            NaN  2021\n",
       "Gulkana Glacier                       NaN  2019\n",
       "Lemon Creek Glacier                   NaN  2019\n",
       "North America                         NaN  2020\n",
       "Northern Hemisphere                   NaN  2021\n",
       "South Cascade Glacier                 NaN  2018\n",
       "Southern Hemisphere                   NaN  2021\n",
       "Tropics                               NaN  2021\n",
       "Wolverine Glacier                     NaN  2019\n",
       "World                          417.652857  2022"
      ]
     },
     "execution_count": 463,
     "metadata": {},
     "output_type": "execute_result"
    }
   ],
   "source": [
    "plotting_data.groupby('Entity').max()"
   ]
  },
  {
   "cell_type": "code",
   "execution_count": 490,
   "id": "9b8a5144",
   "metadata": {},
   "outputs": [
    {
     "data": {
      "text/html": [
       "<div>\n",
       "<style scoped>\n",
       "    .dataframe tbody tr th:only-of-type {\n",
       "        vertical-align: middle;\n",
       "    }\n",
       "\n",
       "    .dataframe tbody tr th {\n",
       "        vertical-align: top;\n",
       "    }\n",
       "\n",
       "    .dataframe thead th {\n",
       "        text-align: right;\n",
       "    }\n",
       "</style>\n",
       "<table border=\"1\" class=\"dataframe\">\n",
       "  <thead>\n",
       "    <tr style=\"text-align: right;\">\n",
       "      <th></th>\n",
       "      <th>CO2 concentrations</th>\n",
       "      <th>Year</th>\n",
       "    </tr>\n",
       "    <tr>\n",
       "      <th>Entity</th>\n",
       "      <th></th>\n",
       "      <th></th>\n",
       "    </tr>\n",
       "  </thead>\n",
       "  <tbody>\n",
       "    <tr>\n",
       "      <th>Antarctica</th>\n",
       "      <td>NaN</td>\n",
       "      <td>1979</td>\n",
       "    </tr>\n",
       "    <tr>\n",
       "      <th>Gulkana Glacier</th>\n",
       "      <td>NaN</td>\n",
       "      <td>1965</td>\n",
       "    </tr>\n",
       "    <tr>\n",
       "      <th>Lemon Creek Glacier</th>\n",
       "      <td>NaN</td>\n",
       "      <td>1952</td>\n",
       "    </tr>\n",
       "    <tr>\n",
       "      <th>North America</th>\n",
       "      <td>NaN</td>\n",
       "      <td>1972</td>\n",
       "    </tr>\n",
       "    <tr>\n",
       "      <th>Northern Hemisphere</th>\n",
       "      <td>NaN</td>\n",
       "      <td>1850</td>\n",
       "    </tr>\n",
       "    <tr>\n",
       "      <th>South Cascade Glacier</th>\n",
       "      <td>NaN</td>\n",
       "      <td>1958</td>\n",
       "    </tr>\n",
       "    <tr>\n",
       "      <th>Southern Hemisphere</th>\n",
       "      <td>NaN</td>\n",
       "      <td>1850</td>\n",
       "    </tr>\n",
       "    <tr>\n",
       "      <th>Tropics</th>\n",
       "      <td>NaN</td>\n",
       "      <td>1850</td>\n",
       "    </tr>\n",
       "    <tr>\n",
       "      <th>Wolverine Glacier</th>\n",
       "      <td>NaN</td>\n",
       "      <td>1965</td>\n",
       "    </tr>\n",
       "    <tr>\n",
       "      <th>World</th>\n",
       "      <td>173.71362</td>\n",
       "      <td>-803720</td>\n",
       "    </tr>\n",
       "  </tbody>\n",
       "</table>\n",
       "</div>"
      ],
      "text/plain": [
       "                       CO2 concentrations    Year\n",
       "Entity                                           \n",
       "Antarctica                            NaN    1979\n",
       "Gulkana Glacier                       NaN    1965\n",
       "Lemon Creek Glacier                   NaN    1952\n",
       "North America                         NaN    1972\n",
       "Northern Hemisphere                   NaN    1850\n",
       "South Cascade Glacier                 NaN    1958\n",
       "Southern Hemisphere                   NaN    1850\n",
       "Tropics                               NaN    1850\n",
       "Wolverine Glacier                     NaN    1965\n",
       "World                           173.71362 -803720"
      ]
     },
     "execution_count": 490,
     "metadata": {},
     "output_type": "execute_result"
    }
   ],
   "source": [
    "plotting_data.groupby('Entity').min()"
   ]
  },
  {
   "cell_type": "code",
   "execution_count": 489,
   "id": "a4eb1f03",
   "metadata": {},
   "outputs": [
    {
     "data": {
      "text/html": [
       "<div>\n",
       "<style scoped>\n",
       "    .dataframe tbody tr th:only-of-type {\n",
       "        vertical-align: middle;\n",
       "    }\n",
       "\n",
       "    .dataframe tbody tr th {\n",
       "        vertical-align: top;\n",
       "    }\n",
       "\n",
       "    .dataframe thead th {\n",
       "        text-align: right;\n",
       "    }\n",
       "</style>\n",
       "<table border=\"1\" class=\"dataframe\">\n",
       "  <thead>\n",
       "    <tr style=\"text-align: right;\">\n",
       "      <th></th>\n",
       "      <th>CO2 concentrations</th>\n",
       "      <th>Year</th>\n",
       "    </tr>\n",
       "    <tr>\n",
       "      <th>Entity</th>\n",
       "      <th></th>\n",
       "      <th></th>\n",
       "    </tr>\n",
       "  </thead>\n",
       "  <tbody>\n",
       "    <tr>\n",
       "      <th>Antarctica</th>\n",
       "      <td>0</td>\n",
       "      <td>43</td>\n",
       "    </tr>\n",
       "    <tr>\n",
       "      <th>Gulkana Glacier</th>\n",
       "      <td>0</td>\n",
       "      <td>55</td>\n",
       "    </tr>\n",
       "    <tr>\n",
       "      <th>Lemon Creek Glacier</th>\n",
       "      <td>0</td>\n",
       "      <td>68</td>\n",
       "    </tr>\n",
       "    <tr>\n",
       "      <th>North America</th>\n",
       "      <td>0</td>\n",
       "      <td>49</td>\n",
       "    </tr>\n",
       "    <tr>\n",
       "      <th>Northern Hemisphere</th>\n",
       "      <td>0</td>\n",
       "      <td>172</td>\n",
       "    </tr>\n",
       "    <tr>\n",
       "      <th>South Cascade Glacier</th>\n",
       "      <td>0</td>\n",
       "      <td>61</td>\n",
       "    </tr>\n",
       "    <tr>\n",
       "      <th>Southern Hemisphere</th>\n",
       "      <td>0</td>\n",
       "      <td>172</td>\n",
       "    </tr>\n",
       "    <tr>\n",
       "      <th>Tropics</th>\n",
       "      <td>0</td>\n",
       "      <td>172</td>\n",
       "    </tr>\n",
       "    <tr>\n",
       "      <th>Wolverine Glacier</th>\n",
       "      <td>0</td>\n",
       "      <td>55</td>\n",
       "    </tr>\n",
       "    <tr>\n",
       "      <th>World</th>\n",
       "      <td>1875</td>\n",
       "      <td>1932</td>\n",
       "    </tr>\n",
       "  </tbody>\n",
       "</table>\n",
       "</div>"
      ],
      "text/plain": [
       "                       CO2 concentrations  Year\n",
       "Entity                                         \n",
       "Antarctica                              0    43\n",
       "Gulkana Glacier                         0    55\n",
       "Lemon Creek Glacier                     0    68\n",
       "North America                           0    49\n",
       "Northern Hemisphere                     0   172\n",
       "South Cascade Glacier                   0    61\n",
       "Southern Hemisphere                     0   172\n",
       "Tropics                                 0   172\n",
       "Wolverine Glacier                       0    55\n",
       "World                                1875  1932"
      ]
     },
     "execution_count": 489,
     "metadata": {},
     "output_type": "execute_result"
    }
   ],
   "source": [
    "plotting_data.groupby('Entity').count()"
   ]
  },
  {
   "cell_type": "code",
   "execution_count": 444,
   "id": "0c77b911",
   "metadata": {},
   "outputs": [],
   "source": [
    "# plotting_data.columns = ['.'.join(col).strip() for col in plotting_data.columns.values] Not necessary was using for stripping the column IDs.\n",
    "# plotting_data.reset_index() "
   ]
  },
  {
   "cell_type": "code",
   "execution_count": null,
   "id": "af28833c",
   "metadata": {},
   "outputs": [],
   "source": [
    "Selecting those which contains only the world"
   ]
  },
  {
   "cell_type": "code",
   "execution_count": 495,
   "id": "978f5dfc",
   "metadata": {},
   "outputs": [],
   "source": [
    "plot_world = plotting_data[plotting_data['Entity'].str.contains(\"World\")==True]"
   ]
  },
  {
   "cell_type": "code",
   "execution_count": 492,
   "id": "78f1b555",
   "metadata": {},
   "outputs": [
    {
     "name": "stdout",
     "output_type": "stream",
     "text": [
      "<class 'pandas.core.frame.DataFrame'>\n",
      "Int64Index: 1932 entries, 847 to 2778\n",
      "Data columns (total 3 columns):\n",
      " #   Column              Non-Null Count  Dtype  \n",
      "---  ------              --------------  -----  \n",
      " 0   Entity              1932 non-null   object \n",
      " 1   CO2 concentrations  1875 non-null   float64\n",
      " 2   Year                1932 non-null   int64  \n",
      "dtypes: float64(1), int64(1), object(1)\n",
      "memory usage: 60.4+ KB\n"
     ]
    }
   ],
   "source": [
    "plot_world.info()"
   ]
  },
  {
   "cell_type": "markdown",
   "id": "66eb4513",
   "metadata": {},
   "source": [
    "Counting those which contains only world"
   ]
  },
  {
   "cell_type": "code",
   "execution_count": 483,
   "id": "870a951a",
   "metadata": {},
   "outputs": [],
   "source": [
    "plot_world = plotting_data[plotting_data['Entity'].str.contains(\"World\")==True].count()"
   ]
  },
  {
   "cell_type": "code",
   "execution_count": 525,
   "id": "86b9161f",
   "metadata": {},
   "outputs": [
    {
     "data": {
      "text/html": [
       "<div>\n",
       "<style scoped>\n",
       "    .dataframe tbody tr th:only-of-type {\n",
       "        vertical-align: middle;\n",
       "    }\n",
       "\n",
       "    .dataframe tbody tr th {\n",
       "        vertical-align: top;\n",
       "    }\n",
       "\n",
       "    .dataframe thead th {\n",
       "        text-align: right;\n",
       "    }\n",
       "</style>\n",
       "<table border=\"1\" class=\"dataframe\">\n",
       "  <thead>\n",
       "    <tr style=\"text-align: right;\">\n",
       "      <th></th>\n",
       "      <th>Entity</th>\n",
       "      <th>CO2 concentrations</th>\n",
       "      <th>Year</th>\n",
       "    </tr>\n",
       "  </thead>\n",
       "  <tbody>\n",
       "    <tr>\n",
       "      <th>847</th>\n",
       "      <td>World</td>\n",
       "      <td>207.285440</td>\n",
       "      <td>-803720</td>\n",
       "    </tr>\n",
       "    <tr>\n",
       "      <th>848</th>\n",
       "      <td>World</td>\n",
       "      <td>202.226839</td>\n",
       "      <td>-803183</td>\n",
       "    </tr>\n",
       "    <tr>\n",
       "      <th>849</th>\n",
       "      <td>World</td>\n",
       "      <td>204.861938</td>\n",
       "      <td>-802574</td>\n",
       "    </tr>\n",
       "    <tr>\n",
       "      <th>850</th>\n",
       "      <td>World</td>\n",
       "      <td>207.498645</td>\n",
       "      <td>-802061</td>\n",
       "    </tr>\n",
       "    <tr>\n",
       "      <th>851</th>\n",
       "      <td>World</td>\n",
       "      <td>202.921723</td>\n",
       "      <td>-801976</td>\n",
       "    </tr>\n",
       "    <tr>\n",
       "      <th>...</th>\n",
       "      <td>...</td>\n",
       "      <td>...</td>\n",
       "      <td>...</td>\n",
       "    </tr>\n",
       "    <tr>\n",
       "      <th>2774</th>\n",
       "      <td>World</td>\n",
       "      <td>408.520833</td>\n",
       "      <td>2018</td>\n",
       "    </tr>\n",
       "    <tr>\n",
       "      <th>2775</th>\n",
       "      <td>World</td>\n",
       "      <td>411.419167</td>\n",
       "      <td>2019</td>\n",
       "    </tr>\n",
       "    <tr>\n",
       "      <th>2776</th>\n",
       "      <td>World</td>\n",
       "      <td>413.943333</td>\n",
       "      <td>2020</td>\n",
       "    </tr>\n",
       "    <tr>\n",
       "      <th>2777</th>\n",
       "      <td>World</td>\n",
       "      <td>416.106667</td>\n",
       "      <td>2021</td>\n",
       "    </tr>\n",
       "    <tr>\n",
       "      <th>2778</th>\n",
       "      <td>World</td>\n",
       "      <td>417.652857</td>\n",
       "      <td>2022</td>\n",
       "    </tr>\n",
       "  </tbody>\n",
       "</table>\n",
       "<p>1932 rows × 3 columns</p>\n",
       "</div>"
      ],
      "text/plain": [
       "     Entity  CO2 concentrations    Year\n",
       "847   World          207.285440 -803720\n",
       "848   World          202.226839 -803183\n",
       "849   World          204.861938 -802574\n",
       "850   World          207.498645 -802061\n",
       "851   World          202.921723 -801976\n",
       "...     ...                 ...     ...\n",
       "2774  World          408.520833    2018\n",
       "2775  World          411.419167    2019\n",
       "2776  World          413.943333    2020\n",
       "2777  World          416.106667    2021\n",
       "2778  World          417.652857    2022\n",
       "\n",
       "[1932 rows x 3 columns]"
      ]
     },
     "execution_count": 525,
     "metadata": {},
     "output_type": "execute_result"
    }
   ],
   "source": [
    "plot_world"
   ]
  },
  {
   "cell_type": "markdown",
   "id": "1b0b5da2",
   "metadata": {},
   "source": [
    "Plotting begins but before plotting some statistics"
   ]
  },
  {
   "cell_type": "code",
   "execution_count": 471,
   "id": "1632d118",
   "metadata": {},
   "outputs": [
    {
     "data": {
      "text/plain": [
       "1875.0"
      ]
     },
     "execution_count": 471,
     "metadata": {},
     "output_type": "execute_result"
    }
   ],
   "source": [
    "plot_world['CO2 concentrations'].mean()"
   ]
  },
  {
   "cell_type": "code",
   "execution_count": 527,
   "id": "eaf574fb",
   "metadata": {},
   "outputs": [
    {
     "data": {
      "text/plain": [
       "847   -803720\n",
       "848   -803183\n",
       "849   -802574\n",
       "850   -802061\n",
       "851   -801976\n",
       "Name: Year, dtype: int64"
      ]
     },
     "execution_count": 527,
     "metadata": {},
     "output_type": "execute_result"
    }
   ],
   "source": [
    "plot_world['Year'].head()"
   ]
  },
  {
   "cell_type": "code",
   "execution_count": 526,
   "id": "5cc68092",
   "metadata": {},
   "outputs": [
    {
     "data": {
      "text/plain": [
       "2774    408.520833\n",
       "2775    411.419167\n",
       "2776    413.943333\n",
       "2777    416.106667\n",
       "2778    417.652857\n",
       "Name: CO2 concentrations, dtype: float64"
      ]
     },
     "execution_count": 526,
     "metadata": {},
     "output_type": "execute_result"
    }
   ],
   "source": [
    "plot_world['CO2 concentrations'].tail()"
   ]
  },
  {
   "cell_type": "code",
   "execution_count": 547,
   "id": "f6ec59aa",
   "metadata": {},
   "outputs": [
    {
     "data": {
      "image/png": "[encoded data removed]",
      "text/plain": [
       "<Figure size 640x480 with 1 Axes>"
      ]
     },
     "metadata": {},
     "output_type": "display_data"
    },
    {
     "data": {
      "text/plain": [
       "<Figure size 640x480 with 0 Axes>"
      ]
     },
     "metadata": {},
     "output_type": "display_data"
    },
    {
     "data": {
      "text/plain": [
       "<Figure size 3000x6000 with 0 Axes>"
      ]
     },
     "metadata": {},
     "output_type": "display_data"
    }
   ],
   "source": [
    "plt.plot(plot_world['Year'],plot_world['CO2 concentrations'], color = 'black', alpha=0.5,linewidth=0.5)\n",
    "#plt.xticks=range([-8000000, -6000000, -4000000, -2000000, 0],['800,000 BCE', '600,000 BCE', '400,000 BCE','200,000 BCE','0'],rotation=20)\n",
    "#plt.xticks=range(len(['CO2 concentrations']))\n",
    "plt.ylabel(\"carbon dioxide level (parts per million)\")\n",
    "plt.xlabel(\"years before today (0 = 1950)\")\n",
    "plt.title(\"CO2 Concentrations\")\n",
    "plt.show()\n",
    "plt.savefig(\"climate.png\", transparent=True)\n",
    "f = plt.figure()\n",
    "f.set_figwidth(10)\n",
    "f.set_figheight(20)\n",
    "f.set_dpi(300)"
   ]
  },
  {
   "cell_type": "code",
   "execution_count": 549,
   "id": "da27574f",
   "metadata": {},
   "outputs": [
    {
     "data": {
      "image/png": "[encoded data removed]",
      "text/plain": [
       "<Figure size 640x480 with 1 Axes>"
      ]
     },
     "metadata": {},
     "output_type": "display_data"
    },
    {
     "data": {
      "text/plain": [
       "<Figure size 640x480 with 0 Axes>"
      ]
     },
     "metadata": {},
     "output_type": "display_data"
    },
    {
     "data": {
      "text/plain": [
       "<Figure size 3000x6000 with 0 Axes>"
      ]
     },
     "metadata": {},
     "output_type": "display_data"
    }
   ],
   "source": [
    "plt.scatter(plot_world['Year'],plot_world['CO2 concentrations'], alpha=0.1, color='black')\n",
    "plt.xlabel('radius_texture')\n",
    "plt.ylabel(\"carbon dioxide level (parts per million)\")\n",
    "plt.xlabel(\"years before today (0 = 1950)\")\n",
    "plt.title(\"CO2 Concentrations\")\n",
    "plt.show()\n",
    "plt.savefig(\"climate.png\", transparent=True)\n",
    "f = plt.figure()\n",
    "f.set_figwidth(10)\n",
    "f.set_figheight(20)\n",
    "f.set_dpi(300)\n",
    "plt.show()"
   ]
  }
 ],
 "metadata": {
  "kernelspec": {
   "display_name": "Python 3 (ipykernel)",
   "language": "python",
   "name": "python3"
  },
  "language_info": {
   "codemirror_mode": {
    "name": "ipython",
    "version": 3
   },
   "file_extension": ".py",
   "mimetype": "text/x-python",
   "name": "python",
   "nbconvert_exporter": "python",
   "pygments_lexer": "ipython3",
   "version": "3.11.0"
  }
 },
 "nbformat": 4,
 "nbformat_minor": 5
}
